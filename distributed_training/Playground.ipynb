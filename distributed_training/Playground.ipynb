{
 "cells": [
  {
   "cell_type": "code",
   "execution_count": 2,
   "id": "2a3ddbbf-b559-4103-b33a-f70cc9544047",
   "metadata": {},
   "outputs": [
    {
     "name": "stdout",
     "output_type": "stream",
     "text": [
      "Total count: 1674896\n"
     ]
    }
   ],
   "source": [
    "import pandas as pd\n",
    "import joblib\n",
    "\n",
    "# Load CSV file\n",
    "df_csv = pd.read_csv('/Users/kushaldsouza/Desktop/submissions.csv')\n",
    "csv_ids = set(df_csv['id'])\n",
    "\n",
    "# Load parquet file\n",
    "df_parquet = pd.read_parquet('../test.parquet')\n",
    "parquet_ids = set(df_parquet['id'])\n",
    "\n",
    "# Find missing ids in CSV\n",
    "missing_ids = parquet_ids - csv_ids\n",
    "\n",
    "# Append missing ids to CSV file\n",
    "missing_data = pd.DataFrame({'id': list(missing_ids), 'binds': [0.5] * len(missing_ids)})\n",
    "df_csv = pd.concat([df_csv, missing_data], ignore_index=True)\n",
    "df_csv.to_csv('/Users/kushaldsouza/Desktop/submissions.csv', index=False)\n",
    "\n",
    "# Calculate total count\n",
    "total_count = len(csv_ids) + len(missing_ids)\n",
    "print(f'Total count: {total_count}')"
   ]
  },
  {
   "cell_type": "code",
   "execution_count": 3,
   "id": "9f542f45-8bcc-4d97-b71e-a4ac86b7aba1",
   "metadata": {},
   "outputs": [
    {
     "name": "stdout",
     "output_type": "stream",
     "text": [
      "0\n"
     ]
    }
   ],
   "source": [
    "print(len(missing_ids))"
   ]
  },
  {
   "cell_type": "code",
   "execution_count": 7,
   "id": "5841914a-7e37-469a-a4e3-e6407ccef686",
   "metadata": {},
   "outputs": [
    {
     "name": "stdout",
     "output_type": "stream",
     "text": [
      "Number of duplicate IDs: 11\n",
      "Removing duplicates...\n",
      "Duplicates removed. New row count: 1674896\n"
     ]
    }
   ],
   "source": [
    "    import pandas as pd\n",
    "    # Fill in missing predictions\n",
    "    df_csv = pd.read_csv('/Users/kushaldsouza/Desktop/submissions.csv')\n",
    "    \n",
    "    # Count and print duplicate IDs\n",
    "    duplicate_count = df_csv['id'].duplicated().sum()\n",
    "    print(f'Number of duplicate IDs: {duplicate_count}')\n",
    "\n",
    "    if duplicate_count > 0:\n",
    "        print(\"Removing duplicates...\")\n",
    "        # Remove duplicates, keeping the first occurrence\n",
    "        df_csv = df_csv.drop_duplicates(subset='id', keep='first')\n",
    "        print(f\"Duplicates removed. New row count: {len(df_csv)}\")\n",
    "\n",
    "    df_csv.to_csv('/Users/kushaldsouza/Desktop/submissions.csv', index=False)"
   ]
  }
 ],
 "metadata": {
  "kernelspec": {
   "display_name": "Python 3 (ipykernel)",
   "language": "python",
   "name": "python3"
  },
  "language_info": {
   "codemirror_mode": {
    "name": "ipython",
    "version": 3
   },
   "file_extension": ".py",
   "mimetype": "text/x-python",
   "name": "python",
   "nbconvert_exporter": "python",
   "pygments_lexer": "ipython3",
   "version": "3.12.2"
  }
 },
 "nbformat": 4,
 "nbformat_minor": 5
}
